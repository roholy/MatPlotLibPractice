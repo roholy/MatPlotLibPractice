{
  "nbformat": 4,
  "nbformat_minor": 0,
  "metadata": {
    "colab": {
      "name": "MatPlotLib.ipynb",
      "provenance": []
    },
    "kernelspec": {
      "name": "python3",
      "display_name": "Python 3"
    }
  },
  "cells": [
    {
      "cell_type": "code",
      "metadata": {
        "id": "W-iaCy-agg3R"
      },
      "source": [
        ""
      ],
      "execution_count": null,
      "outputs": []
    },
    {
      "cell_type": "markdown",
      "metadata": {
        "id": "dzfYoDM9gmtp"
      },
      "source": [
        "https://towardsdatascience.com/the-art-and-science-of-data-visualization-6f9d706d673e"
      ]
    }
  ]
}